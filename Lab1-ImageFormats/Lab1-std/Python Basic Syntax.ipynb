{
 "cells": [
  {
   "cell_type": "code",
   "execution_count": 4,
   "metadata": {},
   "outputs": [
    {
     "name": "stdout",
     "output_type": "stream",
     "text": [
      "3 True String\n"
     ]
    }
   ],
   "source": [
    "#You declare the variable without type.\n",
    "a= 3\n",
    "b= True\n",
    "c='String'\n",
    "print(a,b,c)"
   ]
  },
  {
   "cell_type": "code",
   "execution_count": 5,
   "metadata": {},
   "outputs": [
    {
     "name": "stdout",
     "output_type": "stream",
     "text": [
      "2.5\n",
      "2\n"
     ]
    }
   ],
   "source": [
    "print(5/2)\n",
    "print(int(5/2))\n"
   ]
  },
  {
   "cell_type": "code",
   "execution_count": 13,
   "metadata": {},
   "outputs": [
    {
     "name": "stdout",
     "output_type": "stream",
     "text": [
      "for in\n",
      "1\n",
      "2\n",
      "3\n",
      "4\n",
      "5\n",
      "for in range\n",
      "1\n",
      "2\n",
      "3\n",
      "4\n",
      "5\n",
      "even numbers\n",
      "2\n",
      "4\n"
     ]
    }
   ],
   "source": [
    "#Loops\n",
    "arr = [1,2,3,4,5]\n",
    "print('show array with for in')\n",
    "for x in arr:\n",
    "    print(x)\n",
    "print('show array with for in range')\n",
    "#print(len(arr))\n",
    "for x in range(len(arr)):\n",
    "    print(x)\n",
    "print('show even numbers')\n",
    "for x in arr:\n",
    "    if x%2 == 0:\n",
    "        print(x)\n"
   ]
  },
  {
   "cell_type": "code",
   "execution_count": 36,
   "metadata": {},
   "outputs": [
    {
     "name": "stdout",
     "output_type": "stream",
     "text": [
      "[[[ 0 20  0  0  0]\n",
      "  [ 0 20  0  0  0]\n",
      "  [ 0 20  0  0  0]\n",
      "  [ 0 20  0  0  0]\n",
      "  [ 0  0  0  0  0]]\n",
      "\n",
      " [[ 0 20  0  0  0]\n",
      "  [ 0 20  0  0  0]\n",
      "  [ 0 20  0  0  0]\n",
      "  [ 0 20  0  0  0]\n",
      "  [ 0  0  0  0  0]]\n",
      "\n",
      " [[ 0 20  0  0  0]\n",
      "  [ 0 20  0  0  0]\n",
      "  [ 0 20  0  0  0]\n",
      "  [ 0 20  0  0  0]\n",
      "  [ 0  0  0  0  0]]\n",
      "\n",
      " [[ 0  0  0  0  0]\n",
      "  [ 0  0  0  0  0]\n",
      "  [ 0  0  0  0  0]\n",
      "  [ 0  0  0  0  0]\n",
      "  [ 0  0  0  0  0]]\n",
      "\n",
      " [[ 0  0  0  0  0]\n",
      "  [ 0  0  0  0  0]\n",
      "  [ 0  0  0  0  0]\n",
      "  [ 0  0  0  0  0]\n",
      "  [ 0  0  0  0  0]]]\n"
     ]
    }
   ],
   "source": [
    "# Array Indexing:\n",
    "# arr = [0,1,2,3,4,5]\n",
    "# print(arr[0:3])\n",
    "\n",
    "# import numpy as np\n",
    "\n",
    "\n",
    "# origMat = np.array(arr)\n",
    "# mat = np.copy(origMat)\n",
    "# print(mat)\n",
    "# mat[0:3] = 0\n",
    "# print(mat)\n",
    "# mat = np.copy(origMat)\n",
    "# mat[(mat%2==0)]=-1\n",
    "# print(mat)\n",
    "\n",
    "Arr = np.zeros(shape=(5,5,5),dtype=np.uint8)\n",
    "Arr[0:3,0:4,1] = 20\n",
    "\n",
    "print(Arr)"
   ]
  },
  {
   "cell_type": "code",
   "execution_count": 31,
   "metadata": {},
   "outputs": [
    {
     "name": "stdout",
     "output_type": "stream",
     "text": [
      "[[1 2 3 4 5]\n",
      " [1 2 3 4 5]\n",
      " [1 2 3 4 5]]\n",
      "[[1 2 3 4 5]\n",
      " [1 0 0 4 5]\n",
      " [1 0 0 4 5]]\n"
     ]
    }
   ],
   "source": [
    "origMat = np.array([\n",
    "                   [1,2,3,4,5],\n",
    "                   [1,2,3,4,5],\n",
    "                   [1,2,3,4,5]\n",
    "                   ])\n",
    "mat = np.copy(origMat)\n",
    "print(mat)\n",
    "mat[1:3,1:3] = 0\n",
    "print(mat)"
   ]
  },
  {
   "cell_type": "code",
   "execution_count": 30,
   "metadata": {},
   "outputs": [
    {
     "name": "stdout",
     "output_type": "stream",
     "text": [
      "[[0. 0. 0. 0. 0.]\n",
      " [0. 0. 0. 0. 0.]\n",
      " [0. 0. 0. 0. 0.]\n",
      " [0. 0. 0. 0. 0.]\n",
      " [0. 0. 0. 0. 0.]\n",
      " [0. 0. 0. 0. 0.]]\n",
      "[[1. 1. 1. 1. 1.]\n",
      " [1. 1. 1. 1. 1.]\n",
      " [1. 1. 1. 1. 1.]\n",
      " [1. 1. 1. 1. 1.]\n",
      " [1. 1. 1. 1. 1.]\n",
      " [1. 1. 1. 1. 1.]]\n",
      "(6, 5)\n",
      "6\n"
     ]
    }
   ],
   "source": [
    "arrZeros=np.zeros((6,5))\n",
    "arrOnes=np.ones((6,5))\n",
    "print(arrZeros)\n",
    "print(arrOnes)\n",
    "print(arrOnes.shape)\n",
    "print(arrOnes.shape[0])"
   ]
  },
  {
   "cell_type": "code",
   "execution_count": 26,
   "metadata": {},
   "outputs": [
    {
     "name": "stdout",
     "output_type": "stream",
     "text": [
      "1 2 3\n",
      "1 2 3\n"
     ]
    }
   ],
   "source": [
    "# Shows the fact that Python uses KEYWORD ARGUMENTS as well as the traditional positional arguments.\n",
    "## Notice that: in the output of the first and second call to function fun are the same.\n",
    "## In the second call (using keywords arguments), sorting arguments is not needed.\n",
    "\n",
    "\n",
    "def fun(x,y,z):\n",
    "    print (x,y,z)\n",
    "    \n",
    "fun(1,2,3);\n",
    "fun(z=3,y=2,x=1)"
   ]
  },
  {
   "cell_type": "code",
   "execution_count": 23,
   "metadata": {},
   "outputs": [
    {
     "name": "stdout",
     "output_type": "stream",
     "text": [
      "None\n"
     ]
    }
   ],
   "source": [
    "#instead of NULL: None\n",
    "\n",
    "x = None\n",
    "if (x==None):\n",
    "    print('x is None')\n"
   ]
  },
  {
   "cell_type": "code",
   "execution_count": null,
   "metadata": {},
   "outputs": [],
   "source": []
  }
 ],
 "metadata": {
  "kernelspec": {
   "display_name": "Python 3 (ipykernel)",
   "language": "python",
   "name": "python3"
  },
  "language_info": {
   "codemirror_mode": {
    "name": "ipython",
    "version": 3
   },
   "file_extension": ".py",
   "mimetype": "text/x-python",
   "name": "python",
   "nbconvert_exporter": "python",
   "pygments_lexer": "ipython3",
   "version": "3.9.12"
  }
 },
 "nbformat": 4,
 "nbformat_minor": 2
}
